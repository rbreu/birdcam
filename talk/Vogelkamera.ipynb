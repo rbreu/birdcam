{
 "cells": [
  {
   "cell_type": "markdown",
   "metadata": {
    "slideshow": {
     "slide_type": "slide"
    }
   },
   "source": [
    "# Vogelkamera mit dem Raspberry PI\n",
    "\n",
    "\n",
    "## Rebecca Breu, Juni 2015"
   ]
  },
  {
   "cell_type": "markdown",
   "metadata": {
    "slideshow": {
     "slide_type": "slide"
    }
   },
   "source": [
    "# Wie alles begann...\n",
    "\n",
    "<img src=\"vogeltraenke.png\" width=100%>"
   ]
  },
  {
   "cell_type": "markdown",
   "metadata": {
    "slideshow": {
     "slide_type": "subslide"
    }
   },
   "source": [
    "... wird die überhaupt benutzt?"
   ]
  },
  {
   "cell_type": "markdown",
   "metadata": {
    "slideshow": {
     "slide_type": "slide"
    }
   },
   "source": [
    "# Erster Versuch: Digitalkamera\n",
    "\n",
    "* Intervallaufnahmen mit Digitalkamera\n",
    "* Suchen nach \"interessanten\" Bildern mit Python:"
   ]
  },
  {
   "cell_type": "code",
   "execution_count": null,
   "metadata": {
    "collapsed": true,
    "slideshow": {
     "slide_type": "-"
    }
   },
   "outputs": [],
   "source": [
    "import glob\n",
    "import numpy\n",
    "from matplotlib import image\n",
    "\n",
    "def rgb2gray(rgb):\n",
    "    return numpy.dot(rgb[...,:3], [0.299, 0.587, 0.144])\n",
    "\n",
    "oldimg = None\n",
    "\n",
    "for infile in glob.glob('*.JPG'):\n",
    "    img = rgb2gray(image.imread(infile))\n",
    "\n",
    "    if oldimg is not None:\n",
    "        diff = numpy.linalg.norm(img - oldimg)\n",
    "        # ... do something\n",
    "    oldimg = img"
   ]
  },
  {
   "cell_type": "markdown",
   "metadata": {
    "slideshow": {
     "slide_type": "subslide"
    }
   },
   "source": [
    "# Probleme:\n",
    "\n",
    "* Batterie der Kamera reicht nur für gut drei Stunden\n",
    "* Bilder kopieren und auswerten per Hand wird nervig..."
   ]
  },
  {
   "cell_type": "markdown",
   "metadata": {
    "slideshow": {
     "slide_type": "subslide"
    }
   },
   "source": [
    "# Zweiter Versuch: Raspberry PI und Kamera-Modul\n",
    "\n",
    "<img src=\"kamera.png\" width=\"50%\">"
   ]
  },
  {
   "cell_type": "markdown",
   "metadata": {
    "slideshow": {
     "slide_type": "subslide"
    }
   },
   "source": [
    "# Sonnenstandsberechnung mit astral\n"
   ]
  },
  {
   "cell_type": "code",
   "execution_count": 1,
   "metadata": {
    "collapsed": false,
    "slideshow": {
     "slide_type": "-"
    }
   },
   "outputs": [
    {
     "name": "stdout",
     "output_type": "stream",
     "text": [
      "2015-06-09 05:00:25+02:00\n",
      "2015-06-09 22:02:27+02:00\n"
     ]
    }
   ],
   "source": [
    "from astral import Astral\n",
    "\n",
    "a = Astral()\n",
    "a.solar_depression = 3\n",
    "location = a['Berlin']\n",
    "\n",
    "location.latitude = 50.9534001\n",
    "location.longitude = 6.9548886\n",
    "location.elevation = 56\n",
    "\n",
    "print(location.dawn())\n",
    "print(location.dusk())"
   ]
  },
  {
   "cell_type": "markdown",
   "metadata": {
    "collapsed": true,
    "slideshow": {
     "slide_type": "subslide"
    }
   },
   "source": [
    "# PICamera — Python-Modul für die Kamera\n"
   ]
  },
  {
   "cell_type": "code",
   "execution_count": null,
   "metadata": {
    "collapsed": true,
    "slideshow": {
     "slide_type": "-"
    }
   },
   "outputs": [],
   "source": [
    "import time\n",
    "import picamera\n",
    "\n",
    "with picamera.PiCamera() as camera:\n",
    "    camera.resolution = (1024, 768)\n",
    "    camera.start_preview()\n",
    "    # Camera warm-up time\n",
    "    time.sleep(2)\n",
    "    camera.capture('test.png')\n",
    "\n",
    "    camera.start_recording('my_video.h264', motion_output='motion.data')\n",
    "    camera.wait_recording(60)\n",
    "    camera.stop_recording()"
   ]
  },
  {
   "cell_type": "markdown",
   "metadata": {
    "slideshow": {
     "slide_type": "subslide"
    }
   },
   "source": [
    "# Bewegungsdaten\n",
    "\n",
    "* Kamerachip liefert Bewegungsdaten zur Kodierung mit H264-Codec\n",
    "* Es werden 16x16-Pixel-Blöcke betrachtet\n",
    "* Für jeden Block: 2D-Vektor, wohin sich der Block bewegt + Wert, wie sehr sich alter und neuer Block unterscheiden\n",
    "\n",
    "<img src=\"motion.png\" width=\"100%\">"
   ]
  },
  {
   "cell_type": "markdown",
   "metadata": {
    "slideshow": {
     "slide_type": "subslide"
    }
   },
   "source": [
    "# Bewegungsdaten on the fly analysieren\n"
   ]
  },
  {
   "cell_type": "code",
   "execution_count": null,
   "metadata": {
    "collapsed": true,
    "slideshow": {
     "slide_type": "-"
    }
   },
   "outputs": [],
   "source": [
    "class MotionAnalyser(picamera.array.PiMotionAnalysis):\n",
    "\n",
    "    FRAMES = 5\n",
    "\n",
    "    def __init__(self, *args, **kwargs):\n",
    "        super(MotionAnalyser, self).__init__(*args, **kwargs)\n",
    "        self.motion = None\n",
    "        self.last_motions = deque([0] * self.FRAMES, maxlen=self.FRAMES)\n",
    "\n",
    "    def analyse(self, m):\n",
    "        data = numpy.sqrt(\n",
    "            numpy.square(m['x'].astype(numpy.float)) +\n",
    "            numpy.square(m['y'].astype(numpy.float))\n",
    "        )\n",
    "        norm = numpy.linalg.norm(data)\n",
    "        self.last_motions.append(norm)\n",
    "        if min(self.last_motions) > MOTION_THRESHOLD:\n",
    "            self.motion = True\n"
   ]
  },
  {
   "cell_type": "code",
   "execution_count": null,
   "metadata": {
    "collapsed": true,
    "slideshow": {
     "slide_type": "subslide"
    }
   },
   "outputs": [],
   "source": [
    "with MotionAnalyser(camera) as analyser:\n",
    "    camera.start_recording('/dev/null', format='h264', motion_output=analyser)\n",
    "    while True:\n",
    "        if analyser.motion:\n",
    "            camera.stop_recording()\n",
    "            # ...\n",
    "            break\n",
    "        time.sleep(0.1)"
   ]
  },
  {
   "cell_type": "markdown",
   "metadata": {
    "slideshow": {
     "slide_type": "fragment"
    }
   },
   "source": [
    "Erste Ergebnisse nach ein paar warmen, trockenen Tagen: Es kommen Vögel zum Trinken und Baden!\n"
   ]
  },
  {
   "cell_type": "markdown",
   "metadata": {
    "slideshow": {
     "slide_type": "fragment"
    }
   },
   "source": [
    "Aber..."
   ]
  },
  {
   "cell_type": "markdown",
   "metadata": {
    "slideshow": {
     "slide_type": "subslide"
    }
   },
   "source": [
    "# Wellen durch Wind und Regen = Bewegung :(\n",
    "\n",
    "<img src=\"rain.png\" width=\"100%\">"
   ]
  },
  {
   "cell_type": "markdown",
   "metadata": {
    "slideshow": {
     "slide_type": "slide"
    }
   },
   "source": [
    "# Dritter Versuch: Passiver Infrarot-Sensor\n",
    "\n",
    "<img src=\"pir.png\" width=\"100%\">"
   ]
  },
  {
   "cell_type": "markdown",
   "metadata": {
    "slideshow": {
     "slide_type": "subslide"
    }
   },
   "source": [
    "<img src=\"pir_raspi.png\" width=\"100%\">"
   ]
  },
  {
   "cell_type": "markdown",
   "metadata": {
    "slideshow": {
     "slide_type": "subslide"
    }
   },
   "source": [
    "# Das RPi-GPIO-Modul"
   ]
  },
  {
   "cell_type": "code",
   "execution_count": null,
   "metadata": {
    "collapsed": true,
    "slideshow": {
     "slide_type": "-"
    }
   },
   "outputs": [],
   "source": [
    "from RPi import GPIO\n",
    "import time\n",
    "\n",
    "IR_PIN = 14 # data\n",
    "\n",
    "GPIO.setmode(GPIO.BCM)\n",
    "GPIO.setwarnings(False)\n",
    "GPIO.setup(IR_PIN, GPIO.IN)\n",
    "\n",
    "try:\n",
    "    while True:\n",
    "        if GPIO.input(IR_PIN):\n",
    "            print('Bewegung!')\n",
    "        time.sleep(1)\n",
    "except KeyboardInterrupt:\n",
    "    GPIO.cleanup()"
   ]
  },
  {
   "cell_type": "markdown",
   "metadata": {
    "slideshow": {
     "slide_type": "subslide"
    }
   },
   "source": [
    "# Das RPi-GPIO-Modul"
   ]
  },
  {
   "cell_type": "code",
   "execution_count": null,
   "metadata": {
    "collapsed": true,
    "slideshow": {
     "slide_type": "-"
    }
   },
   "outputs": [],
   "source": [
    "GPIO.add_event_detect(IR_PIN, GPIO.RISING)\n",
    "while True:\n",
    "    if GPIO.event_detected(IR_PIN):\n",
    "        print('Bewegung!')\n",
    "    time.sleep(1)"
   ]
  },
  {
   "cell_type": "markdown",
   "metadata": {
    "slideshow": {
     "slide_type": "fragment"
    }
   },
   "source": [
    "Interrupts:"
   ]
  },
  {
   "cell_type": "code",
   "execution_count": null,
   "metadata": {
    "collapsed": true,
    "slideshow": {
     "slide_type": "-"
    }
   },
   "outputs": [],
   "source": [
    "def my_callback(channel):\n",
    "    print('Bewegung!')\n",
    "\n",
    "GPIO.add_event_detect(IR_PIN, GPIO.RISING, callback=my_callback)\n"
   ]
  },
  {
   "cell_type": "markdown",
   "metadata": {
    "slideshow": {
     "slide_type": "subslide"
    }
   },
   "source": [
    "# Aber...\n",
    "\n",
    "* Sensor nicht empfindlich genug für kleine Vögel\n",
    "* Sensor reagiert träge\n",
    "\n",
    ":(\n",
    "\n",
    "Gibt es bessere Sensoren?"
   ]
  },
  {
   "cell_type": "markdown",
   "metadata": {
    "slideshow": {
     "slide_type": "slide"
    }
   },
   "source": [
    "# Vierter Versuch: Bewegungsanalyse v. 2\n",
    "\n",
    "* Idee: Ignorieren der Wasseroberfläche\n",
    "* Vögel werden zumindestens beim Anflug erkannt und wenn sie auf dem Rand sitzen\n",
    "* Eventuell weniger Aufnahmen von badenden Vögeln in der Mitte der Tränke\n",
    "* Dafür kein Bilder-Spam bei Wind und Regen\n",
    "* Annahme: Kamera immer in gleicher Position, d.h. Wasseroberfläche anhand fester Pixelbereiche identifizierbar"
   ]
  },
  {
   "cell_type": "markdown",
   "metadata": {
    "slideshow": {
     "slide_type": "subslide"
    }
   },
   "source": [
    "# Motion Mask\n",
    "\n",
    "<img src=\"motion_mask.png\" border=\"2\" width=\"100%\">"
   ]
  },
  {
   "cell_type": "markdown",
   "metadata": {
    "collapsed": true,
    "slideshow": {
     "slide_type": "subslide"
    }
   },
   "source": [
    "# Anpassen der Bewegungs-Analyse"
   ]
  },
  {
   "cell_type": "code",
   "execution_count": null,
   "metadata": {
    "collapsed": true,
    "slideshow": {
     "slide_type": "-"
    }
   },
   "outputs": [],
   "source": [
    "motion_mask = matplotlib.image.imread('motion_mask.png')[..., 0]\n",
    "\n",
    "class MotionAnalyser(picamera.array.PiMotionAnalysis):\n",
    "\n",
    "    # ...\n",
    "    \n",
    "    def analyse(self, m):\n",
    "        data = numpy.sqrt(\n",
    "            numpy.square(m['x'].astype(numpy.float)) +\n",
    "            numpy.square(m['y'].astype(numpy.float))\n",
    "        )\n",
    "        data = numpy.multiply(data, motion_mask)\n",
    "        norm = numpy.linalg.norm(data)\n",
    "        self.last_motions.append(norm)\n",
    "        if min(self.last_motions) > MOTION_THRESHOLD:\n",
    "            self.motion = True"
   ]
  },
  {
   "cell_type": "markdown",
   "metadata": {
    "slideshow": {
     "slide_type": "subslide"
    }
   },
   "source": [
    "# Und...\n",
    "\n",
    "**... es funktioniert! \\o/**\n",
    "\n",
    "(Kamera-Anbringung kann optimiert werden: Fixe Position, aber Fenster muss geöffnet werden können.)"
   ]
  },
  {
   "cell_type": "markdown",
   "metadata": {
    "slideshow": {
     "slide_type": "slide"
    }
   },
   "source": [
    "# Ergebnisse\n",
    "\n",
    "* Vögel kommen regelmäßig zum Trinken und Baden\n",
    "* Sieben Vogelarten gesichtet (darunter solche, die sich sonst nicht im Innenhof aufhalten)\n",
    "* Insekten trinken ebenfalls\n",
    "* ... ich muss öfter Fenster putzen"
   ]
  },
  {
   "cell_type": "markdown",
   "metadata": {
    "slideshow": {
     "slide_type": "subslide"
    }
   },
   "source": [
    "<img src=\"amsel.png\" width=\"100%\">"
   ]
  },
  {
   "cell_type": "markdown",
   "metadata": {
    "slideshow": {
     "slide_type": "fragment"
    }
   },
   "source": [
    "Amsel"
   ]
  },
  {
   "cell_type": "markdown",
   "metadata": {
    "slideshow": {
     "slide_type": "subslide"
    }
   },
   "source": [
    "<img src=\"hausrotschwanz.png\" width=\"100%\">"
   ]
  },
  {
   "cell_type": "markdown",
   "metadata": {
    "slideshow": {
     "slide_type": "fragment"
    }
   },
   "source": [
    "Hausrotschwanz"
   ]
  },
  {
   "cell_type": "markdown",
   "metadata": {
    "slideshow": {
     "slide_type": "subslide"
    }
   },
   "source": [
    "<img src=\"kohlmeise.png\" width=\"100%\">"
   ]
  },
  {
   "cell_type": "markdown",
   "metadata": {
    "slideshow": {
     "slide_type": "fragment"
    }
   },
   "source": [
    "Kohlmeise"
   ]
  },
  {
   "cell_type": "markdown",
   "metadata": {
    "slideshow": {
     "slide_type": "subslide"
    }
   },
   "source": [
    "<img src=\"tuerkentaube.png\" width=\"100%\">"
   ]
  },
  {
   "cell_type": "markdown",
   "metadata": {
    "slideshow": {
     "slide_type": "fragment"
    }
   },
   "source": [
    "Türkentaube"
   ]
  },
  {
   "cell_type": "markdown",
   "metadata": {
    "slideshow": {
     "slide_type": "subslide"
    }
   },
   "source": [
    "<img src=\"elster.png\" width=\"100%\">"
   ]
  },
  {
   "cell_type": "markdown",
   "metadata": {
    "slideshow": {
     "slide_type": "fragment"
    }
   },
   "source": [
    "Elster"
   ]
  },
  {
   "cell_type": "markdown",
   "metadata": {
    "slideshow": {
     "slide_type": "subslide"
    }
   },
   "source": [
    "<img src=\"blaumeise.png\" width=\"100%\">"
   ]
  },
  {
   "cell_type": "markdown",
   "metadata": {
    "slideshow": {
     "slide_type": "fragment"
    }
   },
   "source": [
    "Blaumeise"
   ]
  },
  {
   "cell_type": "markdown",
   "metadata": {
    "slideshow": {
     "slide_type": "subslide"
    }
   },
   "source": [
    "<img src=\"biene.png\" width=\"100%\">"
   ]
  },
  {
   "cell_type": "markdown",
   "metadata": {
    "slideshow": {
     "slide_type": "fragment"
    }
   },
   "source": [
    "Honigbiene"
   ]
  },
  {
   "cell_type": "markdown",
   "metadata": {
    "slideshow": {
     "slide_type": "slide"
    }
   },
   "source": [
    "# Danke!\n",
    "\n",
    "<img src=\"end.png\" width=\"100%\">"
   ]
  }
 ],
 "metadata": {
  "celltoolbar": "Slideshow",
  "kernelspec": {
   "display_name": "Python 2",
   "language": "python",
   "name": "python2"
  },
  "language_info": {
   "codemirror_mode": {
    "name": "ipython",
    "version": 2
   },
   "file_extension": ".py",
   "mimetype": "text/x-python",
   "name": "python",
   "nbconvert_exporter": "python",
   "pygments_lexer": "ipython2",
   "version": "2.7.8"
  }
 },
 "nbformat": 4,
 "nbformat_minor": 0
}
